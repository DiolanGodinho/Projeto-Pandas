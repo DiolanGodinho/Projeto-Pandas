{
 "cells": [
  {
   "cell_type": "markdown",
   "metadata": {
    "id": "xDgBxTpFxluW"
   },
   "source": [
    "# História das Olimpíadas  \n",
    "_(créditos ao prof. Rafael Moreira)_\n",
    "\n",
    "Após um ano de atraso por conta da pandemia de Covid-19, as atenções do mundo todo se voltaram para Tóquio, no Japão, para acompanhar mais uma edição das Olimpíadas.\n",
    "\n",
    "No Brasil não foi diferente, e muitos se uniram para torcer por nossos atletas em diferentes competições, tanto em esportes onde o Brasil já possui tradição quanto em novos esportes.\n",
    "\n",
    "Vamos aproveitar o clima para estudar um pouco das Olimpíadas! Utilizaremos um _dataset_ com 120 anos de dados históricos das Olimpíadas, cobrindo desde os jogos de Atenas 1896 até Rio 2016. \n",
    "\n",
    "Faça o download do _dataset_ em https://www.kaggle.com/heesoo37/120-years-of-olympic-history-athletes-and-results e carregue o arquivo ```athlete_events.csv``` para um DataFrame utilizando Pandas. Aproveite para explorar seu DataFrame e se familiarizar com a sua estrutura. \n",
    "\n",
    "OBS: Fique à vontade para acrescentar mais células Python conforme necessário em qualquer etapa do exercício."
   ]
  },
  {
   "cell_type": "code",
   "execution_count": 1,
   "metadata": {
    "ExecuteTime": {
     "end_time": "2021-10-26T00:05:43.403643Z",
     "start_time": "2021-10-26T00:05:43.040286Z"
    },
    "id": "uV4Y-7KWNpxI"
   },
   "outputs": [
    {
     "ename": "FileNotFoundError",
     "evalue": "[Errno 2] No such file or directory: '/home/godara/LetsCode/M03_Bibliotecas_e_APIs/dados/athlete_events.csv'",
     "output_type": "error",
     "traceback": [
      "\u001b[0;31m---------------------------------------------------------------------------\u001b[0m",
      "\u001b[0;31mFileNotFoundError\u001b[0m                         Traceback (most recent call last)",
      "\u001b[0;32m/tmp/ipykernel_6676/1812654624.py\u001b[0m in \u001b[0;36m<module>\u001b[0;34m\u001b[0m\n\u001b[1;32m      4\u001b[0m \u001b[0;34m\u001b[0m\u001b[0m\n\u001b[1;32m      5\u001b[0m \u001b[0mpath\u001b[0m \u001b[0;34m=\u001b[0m \u001b[0mos\u001b[0m\u001b[0;34m.\u001b[0m\u001b[0mgetcwd\u001b[0m\u001b[0;34m(\u001b[0m\u001b[0;34m)\u001b[0m\u001b[0;34m\u001b[0m\u001b[0;34m\u001b[0m\u001b[0m\n\u001b[0;32m----> 6\u001b[0;31m \u001b[0mdf\u001b[0m \u001b[0;34m=\u001b[0m \u001b[0mpd\u001b[0m\u001b[0;34m.\u001b[0m\u001b[0mread_csv\u001b[0m\u001b[0;34m(\u001b[0m\u001b[0mpath\u001b[0m \u001b[0;34m+\u001b[0m \u001b[0;34m'/dados/athlete_events.csv'\u001b[0m\u001b[0;34m)\u001b[0m\u001b[0;34m\u001b[0m\u001b[0;34m\u001b[0m\u001b[0m\n\u001b[0m\u001b[1;32m      7\u001b[0m \u001b[0mdf\u001b[0m\u001b[0;34m.\u001b[0m\u001b[0mhead\u001b[0m\u001b[0;34m(\u001b[0m\u001b[0;36m10\u001b[0m\u001b[0;34m)\u001b[0m\u001b[0;34m\u001b[0m\u001b[0;34m\u001b[0m\u001b[0m\n",
      "\u001b[0;32m~/.local/lib/python3.8/site-packages/pandas/util/_decorators.py\u001b[0m in \u001b[0;36mwrapper\u001b[0;34m(*args, **kwargs)\u001b[0m\n\u001b[1;32m    309\u001b[0m                     \u001b[0mstacklevel\u001b[0m\u001b[0;34m=\u001b[0m\u001b[0mstacklevel\u001b[0m\u001b[0;34m,\u001b[0m\u001b[0;34m\u001b[0m\u001b[0;34m\u001b[0m\u001b[0m\n\u001b[1;32m    310\u001b[0m                 )\n\u001b[0;32m--> 311\u001b[0;31m             \u001b[0;32mreturn\u001b[0m \u001b[0mfunc\u001b[0m\u001b[0;34m(\u001b[0m\u001b[0;34m*\u001b[0m\u001b[0margs\u001b[0m\u001b[0;34m,\u001b[0m \u001b[0;34m**\u001b[0m\u001b[0mkwargs\u001b[0m\u001b[0;34m)\u001b[0m\u001b[0;34m\u001b[0m\u001b[0;34m\u001b[0m\u001b[0m\n\u001b[0m\u001b[1;32m    312\u001b[0m \u001b[0;34m\u001b[0m\u001b[0m\n\u001b[1;32m    313\u001b[0m         \u001b[0;32mreturn\u001b[0m \u001b[0mwrapper\u001b[0m\u001b[0;34m\u001b[0m\u001b[0;34m\u001b[0m\u001b[0m\n",
      "\u001b[0;32m~/.local/lib/python3.8/site-packages/pandas/io/parsers/readers.py\u001b[0m in \u001b[0;36mread_csv\u001b[0;34m(filepath_or_buffer, sep, delimiter, header, names, index_col, usecols, squeeze, prefix, mangle_dupe_cols, dtype, engine, converters, true_values, false_values, skipinitialspace, skiprows, skipfooter, nrows, na_values, keep_default_na, na_filter, verbose, skip_blank_lines, parse_dates, infer_datetime_format, keep_date_col, date_parser, dayfirst, cache_dates, iterator, chunksize, compression, thousands, decimal, lineterminator, quotechar, quoting, doublequote, escapechar, comment, encoding, encoding_errors, dialect, error_bad_lines, warn_bad_lines, on_bad_lines, delim_whitespace, low_memory, memory_map, float_precision, storage_options)\u001b[0m\n\u001b[1;32m    584\u001b[0m     \u001b[0mkwds\u001b[0m\u001b[0;34m.\u001b[0m\u001b[0mupdate\u001b[0m\u001b[0;34m(\u001b[0m\u001b[0mkwds_defaults\u001b[0m\u001b[0;34m)\u001b[0m\u001b[0;34m\u001b[0m\u001b[0;34m\u001b[0m\u001b[0m\n\u001b[1;32m    585\u001b[0m \u001b[0;34m\u001b[0m\u001b[0m\n\u001b[0;32m--> 586\u001b[0;31m     \u001b[0;32mreturn\u001b[0m \u001b[0m_read\u001b[0m\u001b[0;34m(\u001b[0m\u001b[0mfilepath_or_buffer\u001b[0m\u001b[0;34m,\u001b[0m \u001b[0mkwds\u001b[0m\u001b[0;34m)\u001b[0m\u001b[0;34m\u001b[0m\u001b[0;34m\u001b[0m\u001b[0m\n\u001b[0m\u001b[1;32m    587\u001b[0m \u001b[0;34m\u001b[0m\u001b[0m\n\u001b[1;32m    588\u001b[0m \u001b[0;34m\u001b[0m\u001b[0m\n",
      "\u001b[0;32m~/.local/lib/python3.8/site-packages/pandas/io/parsers/readers.py\u001b[0m in \u001b[0;36m_read\u001b[0;34m(filepath_or_buffer, kwds)\u001b[0m\n\u001b[1;32m    480\u001b[0m \u001b[0;34m\u001b[0m\u001b[0m\n\u001b[1;32m    481\u001b[0m     \u001b[0;31m# Create the parser.\u001b[0m\u001b[0;34m\u001b[0m\u001b[0;34m\u001b[0m\u001b[0;34m\u001b[0m\u001b[0m\n\u001b[0;32m--> 482\u001b[0;31m     \u001b[0mparser\u001b[0m \u001b[0;34m=\u001b[0m \u001b[0mTextFileReader\u001b[0m\u001b[0;34m(\u001b[0m\u001b[0mfilepath_or_buffer\u001b[0m\u001b[0;34m,\u001b[0m \u001b[0;34m**\u001b[0m\u001b[0mkwds\u001b[0m\u001b[0;34m)\u001b[0m\u001b[0;34m\u001b[0m\u001b[0;34m\u001b[0m\u001b[0m\n\u001b[0m\u001b[1;32m    483\u001b[0m \u001b[0;34m\u001b[0m\u001b[0m\n\u001b[1;32m    484\u001b[0m     \u001b[0;32mif\u001b[0m \u001b[0mchunksize\u001b[0m \u001b[0;32mor\u001b[0m \u001b[0miterator\u001b[0m\u001b[0;34m:\u001b[0m\u001b[0;34m\u001b[0m\u001b[0;34m\u001b[0m\u001b[0m\n",
      "\u001b[0;32m~/.local/lib/python3.8/site-packages/pandas/io/parsers/readers.py\u001b[0m in \u001b[0;36m__init__\u001b[0;34m(self, f, engine, **kwds)\u001b[0m\n\u001b[1;32m    809\u001b[0m             \u001b[0mself\u001b[0m\u001b[0;34m.\u001b[0m\u001b[0moptions\u001b[0m\u001b[0;34m[\u001b[0m\u001b[0;34m\"has_index_names\"\u001b[0m\u001b[0;34m]\u001b[0m \u001b[0;34m=\u001b[0m \u001b[0mkwds\u001b[0m\u001b[0;34m[\u001b[0m\u001b[0;34m\"has_index_names\"\u001b[0m\u001b[0;34m]\u001b[0m\u001b[0;34m\u001b[0m\u001b[0;34m\u001b[0m\u001b[0m\n\u001b[1;32m    810\u001b[0m \u001b[0;34m\u001b[0m\u001b[0m\n\u001b[0;32m--> 811\u001b[0;31m         \u001b[0mself\u001b[0m\u001b[0;34m.\u001b[0m\u001b[0m_engine\u001b[0m \u001b[0;34m=\u001b[0m \u001b[0mself\u001b[0m\u001b[0;34m.\u001b[0m\u001b[0m_make_engine\u001b[0m\u001b[0;34m(\u001b[0m\u001b[0mself\u001b[0m\u001b[0;34m.\u001b[0m\u001b[0mengine\u001b[0m\u001b[0;34m)\u001b[0m\u001b[0;34m\u001b[0m\u001b[0;34m\u001b[0m\u001b[0m\n\u001b[0m\u001b[1;32m    812\u001b[0m \u001b[0;34m\u001b[0m\u001b[0m\n\u001b[1;32m    813\u001b[0m     \u001b[0;32mdef\u001b[0m \u001b[0mclose\u001b[0m\u001b[0;34m(\u001b[0m\u001b[0mself\u001b[0m\u001b[0;34m)\u001b[0m\u001b[0;34m:\u001b[0m\u001b[0;34m\u001b[0m\u001b[0;34m\u001b[0m\u001b[0m\n",
      "\u001b[0;32m~/.local/lib/python3.8/site-packages/pandas/io/parsers/readers.py\u001b[0m in \u001b[0;36m_make_engine\u001b[0;34m(self, engine)\u001b[0m\n\u001b[1;32m   1038\u001b[0m             )\n\u001b[1;32m   1039\u001b[0m         \u001b[0;31m# error: Too many arguments for \"ParserBase\"\u001b[0m\u001b[0;34m\u001b[0m\u001b[0;34m\u001b[0m\u001b[0;34m\u001b[0m\u001b[0m\n\u001b[0;32m-> 1040\u001b[0;31m         \u001b[0;32mreturn\u001b[0m \u001b[0mmapping\u001b[0m\u001b[0;34m[\u001b[0m\u001b[0mengine\u001b[0m\u001b[0;34m]\u001b[0m\u001b[0;34m(\u001b[0m\u001b[0mself\u001b[0m\u001b[0;34m.\u001b[0m\u001b[0mf\u001b[0m\u001b[0;34m,\u001b[0m \u001b[0;34m**\u001b[0m\u001b[0mself\u001b[0m\u001b[0;34m.\u001b[0m\u001b[0moptions\u001b[0m\u001b[0;34m)\u001b[0m  \u001b[0;31m# type: ignore[call-arg]\u001b[0m\u001b[0;34m\u001b[0m\u001b[0;34m\u001b[0m\u001b[0m\n\u001b[0m\u001b[1;32m   1041\u001b[0m \u001b[0;34m\u001b[0m\u001b[0m\n\u001b[1;32m   1042\u001b[0m     \u001b[0;32mdef\u001b[0m \u001b[0m_failover_to_python\u001b[0m\u001b[0;34m(\u001b[0m\u001b[0mself\u001b[0m\u001b[0;34m)\u001b[0m\u001b[0;34m:\u001b[0m\u001b[0;34m\u001b[0m\u001b[0;34m\u001b[0m\u001b[0m\n",
      "\u001b[0;32m~/.local/lib/python3.8/site-packages/pandas/io/parsers/c_parser_wrapper.py\u001b[0m in \u001b[0;36m__init__\u001b[0;34m(self, src, **kwds)\u001b[0m\n\u001b[1;32m     49\u001b[0m \u001b[0;34m\u001b[0m\u001b[0m\n\u001b[1;32m     50\u001b[0m         \u001b[0;31m# open handles\u001b[0m\u001b[0;34m\u001b[0m\u001b[0;34m\u001b[0m\u001b[0;34m\u001b[0m\u001b[0m\n\u001b[0;32m---> 51\u001b[0;31m         \u001b[0mself\u001b[0m\u001b[0;34m.\u001b[0m\u001b[0m_open_handles\u001b[0m\u001b[0;34m(\u001b[0m\u001b[0msrc\u001b[0m\u001b[0;34m,\u001b[0m \u001b[0mkwds\u001b[0m\u001b[0;34m)\u001b[0m\u001b[0;34m\u001b[0m\u001b[0;34m\u001b[0m\u001b[0m\n\u001b[0m\u001b[1;32m     52\u001b[0m         \u001b[0;32massert\u001b[0m \u001b[0mself\u001b[0m\u001b[0;34m.\u001b[0m\u001b[0mhandles\u001b[0m \u001b[0;32mis\u001b[0m \u001b[0;32mnot\u001b[0m \u001b[0;32mNone\u001b[0m\u001b[0;34m\u001b[0m\u001b[0;34m\u001b[0m\u001b[0m\n\u001b[1;32m     53\u001b[0m \u001b[0;34m\u001b[0m\u001b[0m\n",
      "\u001b[0;32m~/.local/lib/python3.8/site-packages/pandas/io/parsers/base_parser.py\u001b[0m in \u001b[0;36m_open_handles\u001b[0;34m(self, src, kwds)\u001b[0m\n\u001b[1;32m    220\u001b[0m         \u001b[0mLet\u001b[0m \u001b[0mthe\u001b[0m \u001b[0mreaders\u001b[0m \u001b[0mopen\u001b[0m \u001b[0mIOHandles\u001b[0m \u001b[0mafter\u001b[0m \u001b[0mthey\u001b[0m \u001b[0mare\u001b[0m \u001b[0mdone\u001b[0m \u001b[0;32mwith\u001b[0m \u001b[0mtheir\u001b[0m \u001b[0mpotential\u001b[0m \u001b[0mraises\u001b[0m\u001b[0;34m.\u001b[0m\u001b[0;34m\u001b[0m\u001b[0;34m\u001b[0m\u001b[0m\n\u001b[1;32m    221\u001b[0m         \"\"\"\n\u001b[0;32m--> 222\u001b[0;31m         self.handles = get_handle(\n\u001b[0m\u001b[1;32m    223\u001b[0m             \u001b[0msrc\u001b[0m\u001b[0;34m,\u001b[0m\u001b[0;34m\u001b[0m\u001b[0;34m\u001b[0m\u001b[0m\n\u001b[1;32m    224\u001b[0m             \u001b[0;34m\"r\"\u001b[0m\u001b[0;34m,\u001b[0m\u001b[0;34m\u001b[0m\u001b[0;34m\u001b[0m\u001b[0m\n",
      "\u001b[0;32m~/.local/lib/python3.8/site-packages/pandas/io/common.py\u001b[0m in \u001b[0;36mget_handle\u001b[0;34m(path_or_buf, mode, encoding, compression, memory_map, is_text, errors, storage_options)\u001b[0m\n\u001b[1;32m    700\u001b[0m         \u001b[0;32mif\u001b[0m \u001b[0mioargs\u001b[0m\u001b[0;34m.\u001b[0m\u001b[0mencoding\u001b[0m \u001b[0;32mand\u001b[0m \u001b[0;34m\"b\"\u001b[0m \u001b[0;32mnot\u001b[0m \u001b[0;32min\u001b[0m \u001b[0mioargs\u001b[0m\u001b[0;34m.\u001b[0m\u001b[0mmode\u001b[0m\u001b[0;34m:\u001b[0m\u001b[0;34m\u001b[0m\u001b[0;34m\u001b[0m\u001b[0m\n\u001b[1;32m    701\u001b[0m             \u001b[0;31m# Encoding\u001b[0m\u001b[0;34m\u001b[0m\u001b[0;34m\u001b[0m\u001b[0;34m\u001b[0m\u001b[0m\n\u001b[0;32m--> 702\u001b[0;31m             handle = open(\n\u001b[0m\u001b[1;32m    703\u001b[0m                 \u001b[0mhandle\u001b[0m\u001b[0;34m,\u001b[0m\u001b[0;34m\u001b[0m\u001b[0;34m\u001b[0m\u001b[0m\n\u001b[1;32m    704\u001b[0m                 \u001b[0mioargs\u001b[0m\u001b[0;34m.\u001b[0m\u001b[0mmode\u001b[0m\u001b[0;34m,\u001b[0m\u001b[0;34m\u001b[0m\u001b[0;34m\u001b[0m\u001b[0m\n",
      "\u001b[0;31mFileNotFoundError\u001b[0m: [Errno 2] No such file or directory: '/home/godara/LetsCode/M03_Bibliotecas_e_APIs/dados/athlete_events.csv'"
     ]
    }
   ],
   "source": [
    "import pandas as pd\n",
    "import numpy as np\n",
    "import os\n",
    "\n",
    "path = os.getcwd()\n",
    "df = pd.read_csv(path + '/dados/athlete_events.csv')\n",
    "df.head(10)"
   ]
  },
  {
   "cell_type": "code",
   "execution_count": null,
   "metadata": {
    "ExecuteTime": {
     "end_time": "2021-10-26T00:05:43.406390Z",
     "start_time": "2021-10-26T00:05:43.406378Z"
    },
    "id": "mUvn3b1gGz1W"
   },
   "outputs": [],
   "source": [
    "# Vamos remover os competidores com o time desconhecido para que o ranking dos países seja mais preciso \n",
    "# e substituir os espaços vazios na coluna de medalhas para que seja mais fácil trabalhar com esses dados.\n",
    "# Além disso, vamos eliminar a coluna 'Games' pois a informação contida nela já se encontra nas colunas \n",
    "# 'Year' e 'Season'\n",
    "df = df[df['Team'] != 'Unknown']\n",
    "df['Medal'].fillna('No medal', inplace= True)\n",
    "df.drop(columns='Games')"
   ]
  },
  {
   "cell_type": "code",
   "execution_count": null,
   "metadata": {
    "ExecuteTime": {
     "end_time": "2021-10-26T00:05:43.407788Z",
     "start_time": "2021-10-26T00:05:43.407770Z"
    },
    "colab": {
     "base_uri": "https://localhost:8080/"
    },
    "id": "HJUofsXRFM00",
    "outputId": "ce9c64f6-999c-43ed-ec97-0a7b8e8918a1"
   },
   "outputs": [],
   "source": [
    "# Precisamos aplicar essa função para analisarmos, por exemplo, 'Brasil' e 'Brasil-2' como apenas um país.\n",
    "import re\n",
    "def padroniza_pais(pais):\n",
    "  return re.sub(r'(^[a-zA-Z0-9_ ]*)([-,/])([a-zA-Z0-9_ ]*$)', r\"\\1\", pais)\n",
    "\n",
    "df['Team'] = df['Team'].apply(padroniza_pais)"
   ]
  },
  {
   "cell_type": "code",
   "execution_count": null,
   "metadata": {
    "ExecuteTime": {
     "end_time": "2021-10-26T00:05:43.408906Z",
     "start_time": "2021-10-26T00:05:43.408890Z"
    }
   },
   "outputs": [],
   "source": [
    "# Nos primeiros jogos, principalmente, haviam equipes representando clubes, associações, universidades, etc.\n",
    "# Assim, como todos estão associados a um 'NOC', escolhemos, para cada NOC, a equipe com mais registros.\n",
    "\n",
    "repr_noc = df.groupby(['NOC', 'Team']).size().sort_values(ascending=False).reset_index()\n",
    "repr_noc = repr_noc[['NOC', 'Team']].drop_duplicates(['NOC']).to_dict()\n",
    "repr_noc = {repr_noc['NOC'][i]: repr_noc['Team'][i] for i in repr_noc['NOC']}\n",
    "repr_noc"
   ]
  },
  {
   "cell_type": "code",
   "execution_count": null,
   "metadata": {
    "ExecuteTime": {
     "end_time": "2021-10-26T00:05:43.410105Z",
     "start_time": "2021-10-26T00:05:43.410089Z"
    }
   },
   "outputs": [],
   "source": [
    "# Atualizamos a coluna 'Team' com o representa 'padrao' do 'NOC' correpondente\n",
    "df['Team'] = df['NOC'].map(repr_noc)"
   ]
  },
  {
   "cell_type": "markdown",
   "metadata": {
    "id": "DBCZqCdixlub"
   },
   "source": [
    "## 1. O Brasil nas Olimpíadas\n",
    "\n",
    "Vamos começar estudando o desempenho do nossos próprio país. Gere um DataFrame novo contendo apenas as informações sobre atletas brasileiros."
   ]
  },
  {
   "cell_type": "code",
   "execution_count": null,
   "metadata": {
    "ExecuteTime": {
     "end_time": "2021-10-26T00:05:43.411279Z",
     "start_time": "2021-10-26T00:05:43.411266Z"
    },
    "id": "eEWXVOQaxluc"
   },
   "outputs": [],
   "source": [
    "df_br = df[df['Team'] == 'Brazil'].copy()"
   ]
  },
  {
   "cell_type": "markdown",
   "metadata": {
    "id": "_iuq9JHAxlud"
   },
   "source": [
    "### Medalhistas\n",
    "\n",
    "Vamos focar um pouco nos casos de sucesso do Brasil. Use o seu DataFrame anterior para filtrar apenas informações sobre **medalhistas** brasileiros. \n",
    "\n",
    "**DICA:** observe como a coluna ```Medal``` é representada quando o atleta não ganhou medalha."
   ]
  },
  {
   "cell_type": "code",
   "execution_count": null,
   "metadata": {
    "ExecuteTime": {
     "end_time": "2021-10-26T00:05:43.412365Z",
     "start_time": "2021-10-26T00:05:43.412351Z"
    },
    "colab": {
     "base_uri": "https://localhost:8080/",
     "height": 828
    },
    "id": "SJMGsIzdxlud",
    "outputId": "14078512-0263-4b84-cef0-5c75a629301a"
   },
   "outputs": [],
   "source": [
    "df_medalhistas_br = df_br[df_br['Medal'] != 'No medal']\n",
    "df_medalhistas_br\n"
   ]
  },
  {
   "cell_type": "markdown",
   "metadata": {
    "id": "69FOJverxlue"
   },
   "source": [
    "### Verão vs Inverno\n",
    "\n",
    "Você deve ter notado que temos duas categorias distintas de jogos olímpicos, representados pela estação: temos os jogos de verão e os jogos de inverno, que ocorrem de maneira intercalada.\n",
    "\n",
    "Agora que já conhecemos os medalhistas brasileiros, resposta: quantos atletas brasileiros receberam medalha nos jogos de verão e quantos receberam nos jogos de inverno?"
   ]
  },
  {
   "cell_type": "code",
   "execution_count": null,
   "metadata": {
    "ExecuteTime": {
     "end_time": "2021-10-26T00:05:43.413351Z",
     "start_time": "2021-10-26T00:05:43.413340Z"
    },
    "colab": {
     "base_uri": "https://localhost:8080/"
    },
    "id": "PCzsCbiwxlue",
    "outputId": "ed51f329-fed3-4cae-f2f6-260ea63d52c7"
   },
   "outputs": [],
   "source": [
    "df_medalhistas_br.groupby('Season').size()"
   ]
  },
  {
   "cell_type": "code",
   "execution_count": null,
   "metadata": {
    "ExecuteTime": {
     "end_time": "2021-10-26T00:05:43.414302Z",
     "start_time": "2021-10-26T00:05:43.414289Z"
    }
   },
   "outputs": [],
   "source": [
    "# Fiz esse teste para confirmar que o Brasil participou das olimpíadas de Inverno, mas não conquistou nenhuma medalha.\n",
    "df_br[df_br['Season'] == 'Winter']['Medal'].value_counts()"
   ]
  },
  {
   "cell_type": "markdown",
   "metadata": {
    "id": "1qu8IRtdxluf"
   },
   "source": [
    "Os jogos de verão são bem mais populares do que os jogos de inverno no Brasil. Portanto, deste ponto em diante iremos focar apenas nos jogos de verão. Descarte de seu DataFrame os dados dos jogos de inverno.\n",
    "\n"
   ]
  },
  {
   "cell_type": "code",
   "execution_count": null,
   "metadata": {
    "ExecuteTime": {
     "end_time": "2021-10-26T00:05:43.415165Z",
     "start_time": "2021-10-26T00:05:43.415151Z"
    },
    "id": "rTBm5Xzsxlug"
   },
   "outputs": [],
   "source": [
    "# Como não sabemos se usaremos o 'df_br' novamento, optamos pela criação de um novo DataFrame.\n",
    "df_br_verao = df_br[df_br['Season'] == 'Summer']"
   ]
  },
  {
   "cell_type": "markdown",
   "metadata": {
    "id": "aymOWyL5xluh"
   },
   "source": [
    "### Atletas do Brasil\n",
    "\n",
    "Vamos conhecer um pouco melhor nossos atletas. Descubra a altura e peso médio de nossos medalhistas."
   ]
  },
  {
   "cell_type": "code",
   "execution_count": null,
   "metadata": {
    "ExecuteTime": {
     "end_time": "2021-10-26T00:05:43.416144Z",
     "start_time": "2021-10-26T00:05:43.416135Z"
    },
    "colab": {
     "base_uri": "https://localhost:8080/"
    },
    "id": "97b3grP26cd1",
    "outputId": "471cb597-9fa4-4119-a7d8-7c7b7e0da985"
   },
   "outputs": [],
   "source": [
    "altura_media, peso_medio = df_medalhistas_br[['Height', 'Weight']].mean()\n",
    "print(f'Altura Média: {altura_media:.2f} cm.')\n",
    "print(f'Peso Médio: {peso_medio:.2f} kg.')"
   ]
  },
  {
   "cell_type": "markdown",
   "metadata": {
    "id": "gB9yb55wxluh"
   },
   "source": [
    "Imaginamos que diferentes esportes podem beneficiar diferentes tipos físicos, certo? Então refaça a análise anterior, mas obtendo os valores médios **por esporte**."
   ]
  },
  {
   "cell_type": "code",
   "execution_count": null,
   "metadata": {
    "ExecuteTime": {
     "end_time": "2021-10-26T00:05:43.417004Z",
     "start_time": "2021-10-26T00:05:43.416990Z"
    },
    "colab": {
     "base_uri": "https://localhost:8080/",
     "height": 545
    },
    "id": "dxveUhGoxlui",
    "outputId": "648e7166-5355-4dc7-9ada-f29fdf5394f7"
   },
   "outputs": [],
   "source": [
    "import matplotlib.pyplot as plt\n",
    "medias_altura_peso_medalhistas = df_medalhistas_br.groupby('Sport')[['Height', 'Weight']].mean()\n",
    "mapm = medias_altura_peso_medalhistas\n",
    "\n",
    "plt.barh(mapm.index, mapm['Height'], label = 'Height(Altura)')\n",
    "plt.barh(mapm.index, mapm['Weight'], label = 'Weight(Peso)')\n",
    "plt.xlabel('Weight(kg) - Height(cm)')\n",
    "\n",
    "plt.legend(bbox_to_anchor=(1.01, 1.0))\n",
    "plt.title('Medias de Altura e Peso')\n",
    "plt.show()\n"
   ]
  },
  {
   "cell_type": "markdown",
   "metadata": {
    "id": "wtojitCWxlui"
   },
   "source": [
    "Será que os dados acima influenciaram no interesse geral dos atletas pelo esporte ou realmente impactaram no desempenho deles? Podemos tentar descobrir se há algum tipo de correlação.\n",
    "\n",
    "Você ainda possui o dataframe original contendo todos os atletas brasileiros, incluindo os sem medalha? Obtenha os valores médios de peso e altura por esporte daquele dataframe e compare-o com os dos medalhistas. Há alguma diferença significativa em algum esporte?"
   ]
  },
  {
   "cell_type": "code",
   "execution_count": null,
   "metadata": {
    "ExecuteTime": {
     "end_time": "2021-10-26T00:05:43.417877Z",
     "start_time": "2021-10-26T00:05:43.417865Z"
    },
    "colab": {
     "base_uri": "https://localhost:8080/",
     "height": 1000
    },
    "id": "_q8B9V6Lxlui",
    "outputId": "a4759bf5-dcda-4766-9159-1da0ef585608"
   },
   "outputs": [],
   "source": [
    "# Média de altura e peso de todos atletas brasileiros\n",
    "medias_altura_peso_geral = df_br_verao.groupby('Sport')[['Height', 'Weight']].mean()\n",
    "medias_altura_peso_geral"
   ]
  },
  {
   "cell_type": "code",
   "execution_count": null,
   "metadata": {
    "ExecuteTime": {
     "end_time": "2021-10-26T00:05:43.418792Z",
     "start_time": "2021-10-26T00:05:43.418780Z"
    },
    "colab": {
     "base_uri": "https://localhost:8080/",
     "height": 576
    },
    "id": "pejSnYu0BT0D",
    "outputId": "d4cdef79-061a-4255-ee73-6bce5e55787b"
   },
   "outputs": [],
   "source": [
    "# Junção dos dois DataFrames\n",
    "medias_comparadas = pd.concat([medias_altura_peso_medalhistas, medias_altura_peso_geral], \n",
    "                                      axis=1, \n",
    "                                      join='inner')\n",
    "\n",
    "labels = pd.MultiIndex.from_product([['Medalhistas', 'Geral'], ['Height', 'Weight']])\n",
    "\n",
    "medias_comparadas.set_axis(labels=labels, axis=1, inplace=True)\n",
    "\n",
    "medias_comparadas"
   ]
  },
  {
   "cell_type": "code",
   "execution_count": null,
   "metadata": {
    "ExecuteTime": {
     "end_time": "2021-10-26T00:05:43.419440Z",
     "start_time": "2021-10-26T00:05:43.419432Z"
    },
    "id": "cUtdQbmTBuCc"
   },
   "outputs": [],
   "source": [
    "def diferenca_percentual(linha, medida):\n",
    "    if medida == 'altura':\n",
    "        return (linha[0]/linha[2]-1)*100\n",
    "    elif medida == 'peso':\n",
    "        return (linha[1]/linha[3]-1)*100\n",
    "\n",
    "dif_percent_alt = medias_comparadas.apply(diferenca_percentual, args=('altura', ), axis=1)\n",
    "\n",
    "dif_percent_peso = medias_comparadas.apply(diferenca_percentual, args=('peso', ), axis=1)"
   ]
  },
  {
   "cell_type": "code",
   "execution_count": null,
   "metadata": {
    "ExecuteTime": {
     "end_time": "2021-10-26T00:05:43.420165Z",
     "start_time": "2021-10-26T00:05:43.420149Z"
    },
    "colab": {
     "base_uri": "https://localhost:8080/",
     "height": 576
    },
    "id": "PdtKkFn7Bu76",
    "outputId": "14418c9c-733c-4eff-9c6a-cde5b7259075"
   },
   "outputs": [],
   "source": [
    "# Diferença da porcentagem entre os dois DataFrames\n",
    "medias_comparadas = pd.concat([medias_comparadas, \n",
    "                              pd.concat([dif_percent_alt, dif_percent_peso], \n",
    "                                        axis=1, \n",
    "                                        keys=[('Diferenca %', 'Height'), ('Diferenca %', 'Weight')])], \n",
    "                             axis=1)\n",
    "medias_comparadas"
   ]
  },
  {
   "cell_type": "code",
   "execution_count": null,
   "metadata": {
    "ExecuteTime": {
     "end_time": "2021-10-26T00:05:43.420767Z",
     "start_time": "2021-10-26T00:05:43.420760Z"
    },
    "colab": {
     "base_uri": "https://localhost:8080/",
     "height": 204
    },
    "id": "GZ9nS39_BaC2",
    "outputId": "377b21d8-026e-4547-c4fa-f6e262385f05"
   },
   "outputs": [],
   "source": [
    "# Verifica-se os esportes que possuem uma diferença expressiva entre os pesos dos Medalhistas X Participantes,\n",
    "# fazendo-nos questionar qual seria o motivo de tal disparidade.\n",
    "\n",
    "medias_comparadas['Diferenca %'][medias_comparadas['Diferenca %']['Weight'].abs()>10]"
   ]
  },
  {
   "cell_type": "code",
   "execution_count": null,
   "metadata": {
    "ExecuteTime": {
     "end_time": "2021-10-26T00:05:43.421474Z",
     "start_time": "2021-10-26T00:05:43.421467Z"
    }
   },
   "outputs": [],
   "source": [
    "# Verifica-se que não há uma diferença expressiva entre as alturas dos Medalhistas X Participantes\n",
    "\n",
    "medias_comparadas['Diferenca %'][medias_comparadas['Diferenca %']['Height'].abs()>10]"
   ]
  },
  {
   "cell_type": "markdown",
   "metadata": {
    "id": "WY1bV6rgxluj"
   },
   "source": [
    "Existe um detalhe importante passando batido até agora em nossa análise: as categorias esportivas costumam ser divididas por gênero justamente por conta de diferenças físicas entre homens e mulheres que poderiam influenciar no desempenho. Compare a altura e peso médios de atletas brasileiros por esporte segmentado por sexo."
   ]
  },
  {
   "cell_type": "code",
   "execution_count": null,
   "metadata": {
    "ExecuteTime": {
     "end_time": "2021-10-26T00:05:43.423459Z",
     "start_time": "2021-10-26T00:05:43.423448Z"
    },
    "colab": {
     "base_uri": "https://localhost:8080/",
     "height": 390
    },
    "id": "d8PW5Dm0CHPd",
    "outputId": "d36778d6-8ee5-4ffc-ef07-7dbf69d6c2b3"
   },
   "outputs": [],
   "source": [
    "medias_altura_peso_F = df_medalhistas_br.groupby(['Sport', 'Sex'])[['Height', 'Weight']].\\\n",
    "            mean().xs('F', level=1)\n",
    "            \n",
    "medias_altura_peso_M = df_medalhistas_br.groupby(['Sport', 'Sex'])[['Height', 'Weight']].\\\n",
    "            mean().xs('M', level=1)\n",
    "\n",
    "medias_comparadas_sexo = pd.concat([medias_altura_peso_F, medias_altura_peso_M], axis=1, join='inner')\n",
    "\n",
    "labels = pd.MultiIndex.from_product([['Feminino', 'Masculino'], ['Height', 'Weight']])\n",
    "\n",
    "medias_comparadas_sexo.set_axis(labels=labels, axis=1, inplace=True)\n",
    "\n",
    "medias_comparadas_sexo"
   ]
  },
  {
   "cell_type": "code",
   "execution_count": null,
   "metadata": {
    "ExecuteTime": {
     "end_time": "2021-10-26T00:05:43.424385Z",
     "start_time": "2021-10-26T00:05:43.424374Z"
    },
    "colab": {
     "base_uri": "https://localhost:8080/",
     "height": 421
    },
    "id": "Iy7U2_oQCYHS",
    "outputId": "2157f623-8ed2-484e-9351-d6295ea73025"
   },
   "outputs": [],
   "source": [
    "dif_percent_alt_sexo = medias_comparadas_sexo.apply(diferenca_percentual, args=('altura', ), axis=1)\n",
    "dif_percent_peso_sexo = medias_comparadas_sexo.apply(diferenca_percentual, args=('peso', ), axis=1)\n",
    "medias_comparadas_sexo = pd.concat([medias_comparadas_sexo, \n",
    "                              pd.concat([dif_percent_alt_sexo, dif_percent_peso_sexo], \n",
    "                                        axis=1, \n",
    "                                        keys=[('Diferenca %', 'Height'), ('Diferenca %', 'Weight')])], \n",
    "                             axis=1)\n",
    "medias_comparadas_sexo"
   ]
  },
  {
   "cell_type": "code",
   "execution_count": null,
   "metadata": {
    "ExecuteTime": {
     "end_time": "2021-10-26T00:05:43.425330Z",
     "start_time": "2021-10-26T00:05:43.425321Z"
    },
    "colab": {
     "base_uri": "https://localhost:8080/",
     "height": 359
    },
    "id": "A7BpjknBxluj",
    "outputId": "6f293c65-811d-45c6-a9ab-a5f41e52b5de"
   },
   "outputs": [],
   "source": [
    "# Verifica-se os esportes que possuem uma diferença expressiva entre os pesos dos Feminino X Masculino,\n",
    "# o que poderia ser usado em uma discussão sobre a inclusão de mulheres trans nas olimpíadas, por exemplo.\n",
    "\n",
    "medias_comparadas_sexo['Diferenca %'][medias_comparadas_sexo['Diferenca %']['Weight'].abs()>10]"
   ]
  },
  {
   "cell_type": "code",
   "execution_count": null,
   "metadata": {
    "ExecuteTime": {
     "end_time": "2021-10-26T00:05:43.426154Z",
     "start_time": "2021-10-26T00:05:43.426144Z"
    }
   },
   "outputs": [],
   "source": [
    "# Verifica-se os esportes que possuem uma diferença expressiva entre as alturas dos Feminino X Masculino.\n",
    "\n",
    "medias_comparadas_sexo['Diferenca %'][medias_comparadas_sexo['Diferenca %']['Height'].abs()>10]"
   ]
  },
  {
   "cell_type": "markdown",
   "metadata": {
    "id": "8zxco8Nyxluj"
   },
   "source": [
    "Qual foi (ou quais foram) o maior medalhista brasileiro em quantidade total de medalhas?"
   ]
  },
  {
   "cell_type": "code",
   "execution_count": null,
   "metadata": {
    "ExecuteTime": {
     "end_time": "2021-10-26T00:05:43.426926Z",
     "start_time": "2021-10-26T00:05:43.426918Z"
    },
    "colab": {
     "base_uri": "https://localhost:8080/"
    },
    "id": "fRsQMhcPxluj",
    "outputId": "ef6b4c03-2c75-463f-d061-4cb4742d9a8e"
   },
   "outputs": [],
   "source": [
    "medalhas_por_atleta_br = df_medalhistas_br.groupby('Name')['Medal'].count()\n",
    "\n",
    "maximo = medalhas_por_atleta_br.max()\n",
    "\n",
    "brasileiros_mais_medalhas = medalhas_por_atleta_br[medalhas_por_atleta_br == maximo]\n",
    "\n",
    "brasileiros_mais_medalhas"
   ]
  },
  {
   "cell_type": "markdown",
   "metadata": {
    "id": "WhKTSWbkxluj"
   },
   "source": [
    "E o(s) maior(es) em quantidade de medalhas de ouro?"
   ]
  },
  {
   "cell_type": "code",
   "execution_count": null,
   "metadata": {
    "ExecuteTime": {
     "end_time": "2021-10-26T00:05:43.428250Z",
     "start_time": "2021-10-26T00:05:43.428230Z"
    },
    "colab": {
     "base_uri": "https://localhost:8080/"
    },
    "id": "_AzmGYrxxluk",
    "outputId": "7c7403d7-007e-4961-f75d-616199e343af"
   },
   "outputs": [],
   "source": [
    "ouros_por_atleta_br = df_medalhistas_br.groupby('Name')['Medal'].value_counts().loc[:, 'Gold']\n",
    "\n",
    "maximo_br = ouros_por_atleta_br.max()\n",
    "\n",
    "brasileiros_mais_ouros = ouros_por_atleta_br[ouros_por_atleta_br == maximo_br]\n",
    "\n",
    "brasileiros_mais_ouros\n"
   ]
  },
  {
   "cell_type": "markdown",
   "metadata": {
    "id": "rjim_SFnxluk"
   },
   "source": [
    "Qual esporte rendeu mais medalhas de ouro para o Brasil?\n",
    "\n",
    "**DICA:** tome muito cuidado nessa análise: cada **evento esportivo** rende 1 medalha. Por exemplo, quando a equipe de futebol vence, isso é considerado 1 medalha, mesmo tendo cerca de 20 atletas medalhistas na equipe. "
   ]
  },
  {
   "cell_type": "code",
   "execution_count": null,
   "metadata": {
    "ExecuteTime": {
     "end_time": "2021-10-26T00:05:43.429360Z",
     "start_time": "2021-10-26T00:05:43.429344Z"
    },
    "colab": {
     "base_uri": "https://localhost:8080/"
    },
    "id": "epb846G-iQDz",
    "outputId": "d5858887-268c-49e8-dfbd-8b43b3c2a7d5"
   },
   "outputs": [],
   "source": [
    "df_medalhas_por_evento_br = df_medalhistas_br.drop_duplicates(subset=['Event','Year','Medal'])\n",
    "\n",
    "df_ouros_por_evento_br = df_medalhas_por_evento_br[df_medalhas_por_evento_br['Medal'] == 'Gold']\n",
    "\n",
    "ouros_por_esporte_br = df_ouros_por_evento_br.groupby('Sport').size()\n",
    "\n",
    "maximo = ouros_por_esporte_br.max()\n",
    "\n",
    "esportes_mais_ouros_br = ouros_por_esporte_br[ouros_por_esporte_br == maximo]\n",
    "\n",
    "esportes_mais_ouros_br\n"
   ]
  },
  {
   "cell_type": "markdown",
   "metadata": {
    "id": "Ih3_DzSzqs5I"
   },
   "source": [
    "E qual rendeu mais medalhas no total?"
   ]
  },
  {
   "cell_type": "code",
   "execution_count": null,
   "metadata": {
    "ExecuteTime": {
     "end_time": "2021-10-26T00:05:43.430614Z",
     "start_time": "2021-10-26T00:05:43.430596Z"
    },
    "colab": {
     "base_uri": "https://localhost:8080/"
    },
    "id": "E7slDuvOYQ1M",
    "outputId": "00053d25-2958-458a-fddf-0358e601e4c2"
   },
   "outputs": [],
   "source": [
    "medalhas_por_esporte_br = df_medalhas_por_evento_br.groupby('Sport').size()\n",
    "\n",
    "maximo = medalhas_por_esporte_br.max()\n",
    "\n",
    "esportes_mais_medalhados_br =  medalhas_por_esporte_br[medalhas_por_esporte_br == maximo]\n",
    "\n",
    "esportes_mais_medalhados_br\n"
   ]
  },
  {
   "cell_type": "markdown",
   "metadata": {
    "id": "IRQOvzN4xlul"
   },
   "source": [
    "Cada \"categoria\" dentro de um esporte é considerado um evento. Por exemplo, dentro de \"atletismo\", temos uma competição de 100m masculina, uma de 100m feminino, um revezamento 4 x 100m masculino, um revezamento 4 x 100m feminino, uma competição de 400m masculino, uma de 400m feminino, uma maratona masculina, uma maratona feminina, e assim sucessivamente.\n",
    "\n",
    "Sabendo disso, qual evento esportivo mais rendeu medalhas de ouro para o Brasil? E total de medalhas?"
   ]
  },
  {
   "cell_type": "code",
   "execution_count": null,
   "metadata": {
    "ExecuteTime": {
     "end_time": "2021-10-26T00:05:43.433032Z",
     "start_time": "2021-10-26T00:05:43.433003Z"
    },
    "colab": {
     "base_uri": "https://localhost:8080/"
    },
    "id": "me8-fjg-xlul",
    "outputId": "5995f1c2-57d4-4e84-c7b4-ff868b346d8b"
   },
   "outputs": [],
   "source": [
    "ouros_por_evento_br = df_ouros_por_evento_br.groupby('Event').size()\n",
    "\n",
    "maximo = ouros_por_evento_br.max()\n",
    "\n",
    "eventos_mais_ouros_br = ouros_por_evento_br[ouros_por_evento_br == maximo]\n",
    "\n",
    "print('Evento esportivo que mais rendeu medalhas de ouro para o Brasil:')\n",
    "eventos_mais_ouros_br\n"
   ]
  },
  {
   "cell_type": "code",
   "execution_count": null,
   "metadata": {
    "ExecuteTime": {
     "end_time": "2021-10-26T00:05:43.436123Z",
     "start_time": "2021-10-26T00:05:43.436097Z"
    },
    "colab": {
     "base_uri": "https://localhost:8080/"
    },
    "id": "H2g4-mo8m4nE",
    "outputId": "07b67b6f-3135-4a18-e680-d2e6ed9c1789"
   },
   "outputs": [],
   "source": [
    "medalhas_por_evento_br = df_medalhas_por_evento_br.groupby('Event').size()\n",
    "\n",
    "maximo = medalhas_por_evento_br.max()\n",
    "\n",
    "eventos_mais_medalhados_br = medalhas_por_evento_br[medalhas_por_evento_br == maximo]\n",
    "\n",
    "print('Evento esportivo que mais rendeu medalhas para o Brasil:')\n",
    "eventos_mais_medalhados_br\n"
   ]
  },
  {
   "cell_type": "markdown",
   "metadata": {
    "id": "IAC8VUdhxlul"
   },
   "source": [
    "Para finalizar sobre o Brasil: obtenha o total de medalhas de ouro, prata, bronze e total por ano."
   ]
  },
  {
   "cell_type": "code",
   "execution_count": null,
   "metadata": {
    "ExecuteTime": {
     "end_time": "2021-10-26T00:05:43.438016Z",
     "start_time": "2021-10-26T00:05:43.437991Z"
    },
    "colab": {
     "base_uri": "https://localhost:8080/"
    },
    "id": "PUJFQA0ePQjU",
    "outputId": "db5685e4-4394-4cb5-ace2-9b785f2cb186"
   },
   "outputs": [],
   "source": [
    "medalhas_por_cor_br = df_medalhas_por_evento_br.groupby('Medal').size()\n",
    "\n",
    "print('Total de medalhas do Brasil:')\n",
    "medalhas_por_cor_br.sort_values()"
   ]
  },
  {
   "cell_type": "code",
   "execution_count": null,
   "metadata": {
    "ExecuteTime": {
     "end_time": "2021-10-26T00:05:43.440142Z",
     "start_time": "2021-10-26T00:05:43.440117Z"
    },
    "colab": {
     "base_uri": "https://localhost:8080/"
    },
    "id": "bMEk620BoP-o",
    "outputId": "b827cc79-5ee2-4317-a977-f032b45f86b7"
   },
   "outputs": [],
   "source": [
    "medalhas_por_ano_br = df_medalhas_por_evento_br.groupby('Year').size()\n",
    "print('Total de medalhas do Brasil por ano:')\n",
    "medalhas_por_ano_br\n"
   ]
  },
  {
   "cell_type": "markdown",
   "metadata": {
    "id": "vsktTfmvxlul"
   },
   "source": [
    "## 2. O mundo nos jogos de verão\n",
    "\n",
    "Vamos agora analisar um pouquinho do que aconteceu nas Olimpíadas de verão em todo o mundo.\n",
    "\n",
    "Retome o DataFrame original e descarte as informações sobre os jogos de inverno."
   ]
  },
  {
   "cell_type": "code",
   "execution_count": null,
   "metadata": {
    "ExecuteTime": {
     "end_time": "2021-10-26T00:05:43.441513Z",
     "start_time": "2021-10-26T00:05:43.441502Z"
    },
    "id": "5aKaOE_Wxlul"
   },
   "outputs": [],
   "source": [
    "df_verao = df[df['Season'] == 'Summer'].copy()"
   ]
  },
  {
   "cell_type": "markdown",
   "metadata": {
    "id": "Z-vnmoQLxlum"
   },
   "source": [
    "Obtenha a lista de todos os esportes já disputados nas olimpíadas de verão."
   ]
  },
  {
   "cell_type": "code",
   "execution_count": null,
   "metadata": {
    "ExecuteTime": {
     "end_time": "2021-10-26T00:05:43.442275Z",
     "start_time": "2021-10-26T00:05:43.442266Z"
    },
    "colab": {
     "base_uri": "https://localhost:8080/"
    },
    "id": "yRLGbrQAxlum",
    "outputId": "8a5514ac-4fa3-42b4-8ceb-87d1da43f836"
   },
   "outputs": [],
   "source": [
    "df_verao['Sport'].value_counts().sort_index().index.tolist()"
   ]
  },
  {
   "cell_type": "markdown",
   "metadata": {
    "id": "9ccJIyyQxlum"
   },
   "source": [
    "Obtenha a lista de todas as modalidades esportivas já disputadas nas olimpíadas de verão."
   ]
  },
  {
   "cell_type": "code",
   "execution_count": null,
   "metadata": {
    "ExecuteTime": {
     "end_time": "2021-10-26T00:05:43.443201Z",
     "start_time": "2021-10-26T00:05:43.443191Z"
    },
    "colab": {
     "base_uri": "https://localhost:8080/"
    },
    "id": "9YJjnWwwxlum",
    "outputId": "8ef83218-ebe0-41d8-cced-7245d0add7dc"
   },
   "outputs": [],
   "source": [
    "df_verao['Event'].value_counts().sort_index().index.tolist()"
   ]
  },
  {
   "cell_type": "markdown",
   "metadata": {
    "id": "mhH3DjJ1xlum"
   },
   "source": [
    "Obtenha a lista de todos os países que já disputaram olimpíadas."
   ]
  },
  {
   "cell_type": "code",
   "execution_count": null,
   "metadata": {
    "ExecuteTime": {
     "end_time": "2021-10-26T00:05:43.444209Z",
     "start_time": "2021-10-26T00:05:43.444198Z"
    },
    "colab": {
     "base_uri": "https://localhost:8080/"
    },
    "id": "zl3UUxePxlun",
    "outputId": "e7106fcb-d240-4919-a2bf-1d43446e918f"
   },
   "outputs": [],
   "source": [
    "# Observação: do modo como atualizamos a coluna 'Team' com um representante por 'NOC', \n",
    "# nessa lista não aparecem os paises componentes do Reino Unido: England, Gales, Escócia e Irlandas \n",
    "# além de domínios britânicos ultramarinos. Todos estão sob o nome 'Great Britain'\n",
    "\n",
    "df_verao['Team'].sort_values().unique().tolist()"
   ]
  },
  {
   "cell_type": "markdown",
   "metadata": {
    "id": "WeLfKKFaxlun"
   },
   "source": [
    "Qual atleta foi o maior medalhista (em medalhas totais) da história das olimpíadas de verão?"
   ]
  },
  {
   "cell_type": "code",
   "execution_count": null,
   "metadata": {
    "ExecuteTime": {
     "end_time": "2021-10-26T00:05:43.445311Z",
     "start_time": "2021-10-26T00:05:43.445301Z"
    },
    "colab": {
     "base_uri": "https://localhost:8080/"
    },
    "id": "t5KxmWQaxlun",
    "outputId": "a69ff23b-2044-41ff-ea87-8cf0933eeae0"
   },
   "outputs": [],
   "source": [
    "df_medalhistas = df_verao[df_verao['Medal'] != 'No medal'].copy()\n",
    "\n",
    "medalhas_por_atleta = df_medalhistas.groupby('Name')['Medal'].count()\n",
    "\n",
    "maximo = medalhas_por_atleta.max()\n",
    "\n",
    "maiores_medalhistas = medalhas_por_atleta[medalhas_por_atleta == maximo]\n",
    "print('O maior medalhista da história das olimpíadas de verão:')\n",
    "maiores_medalhistas"
   ]
  },
  {
   "cell_type": "markdown",
   "metadata": {
    "id": "NFcDiV7-xlun"
   },
   "source": [
    "Qual atleta foi o maior medalhista de ouro da história das olimpíadas de verão?"
   ]
  },
  {
   "cell_type": "code",
   "execution_count": null,
   "metadata": {
    "ExecuteTime": {
     "end_time": "2021-10-26T00:05:43.446525Z",
     "start_time": "2021-10-26T00:05:43.446512Z"
    },
    "colab": {
     "base_uri": "https://localhost:8080/"
    },
    "id": "Wjn5mQ3Exluo",
    "outputId": "e41b87d6-1fe2-40ce-9ca1-758097b63d42"
   },
   "outputs": [],
   "source": [
    "ouros_por_atleta = df_medalhistas[df_medalhistas['Medal'] == 'Gold'].groupby('Name').size()\n",
    "\n",
    "maximo = ouros_por_atleta.max()\n",
    "\n",
    "atletas_mais_ouros = ouros_por_atleta[ouros_por_atleta == maximo]\n",
    "\n",
    "print('O maior medalhista de ouro da história das olimpíadas de verão:')\n",
    "atletas_mais_ouros"
   ]
  },
  {
   "cell_type": "markdown",
   "metadata": {
    "id": "zphCr-Noxluo"
   },
   "source": [
    "Qual país foi o maior medalhista de ouro da história das olimpíadas de verão? Lembre-se da questão do evento esportivo, para não considerar múltiplas medalhas para um mesmo evento (ex: uma equipe de futebol fazendo parecer que mais de 20 medalhas foram distribuídas)."
   ]
  },
  {
   "cell_type": "code",
   "execution_count": null,
   "metadata": {
    "ExecuteTime": {
     "end_time": "2021-10-26T00:05:43.447517Z",
     "start_time": "2021-10-26T00:05:43.447507Z"
    },
    "colab": {
     "base_uri": "https://localhost:8080/"
    },
    "id": "0AQiwMoyxluo",
    "outputId": "0a64fe8d-0334-4b0e-afde-6ac852132000"
   },
   "outputs": [],
   "source": [
    "df_medalhas_por_evento = df_medalhistas.drop_duplicates(subset=['Event','Year', 'Medal'])\n",
    "\n",
    "df_ouros_por_pais = df_medalhas_por_evento[df_medalhas_por_evento['Medal'] == 'Gold']\n",
    "\n",
    "ouros_por_pais = df_ouros_por_pais.groupby('Team').size()\n",
    "\n",
    "maximo = ouros_por_pais.max()\n",
    "\n",
    "paises_mais_ouros = ouros_por_pais[ouros_por_pais == maximo]\n",
    "\n",
    "print('O maior país em medalhas de ouro da história das olimpíadas de verão:')\n",
    "paises_mais_ouros"
   ]
  },
  {
   "cell_type": "markdown",
   "metadata": {
    "id": "RPl_-DgUxluo"
   },
   "source": [
    "Qual país foi o maior medalhista em medalhas totais na história das olimpíadas de verão?"
   ]
  },
  {
   "cell_type": "code",
   "execution_count": null,
   "metadata": {
    "ExecuteTime": {
     "end_time": "2021-10-26T00:05:43.448337Z",
     "start_time": "2021-10-26T00:05:43.448328Z"
    },
    "colab": {
     "base_uri": "https://localhost:8080/"
    },
    "id": "KG60BctWxluo",
    "outputId": "9a8eeb51-ebf4-4402-af33-37ce8efe8033"
   },
   "outputs": [],
   "source": [
    "medalhas_por_pais = df_medalhas_por_evento.groupby('Team').size()\n",
    "\n",
    "maximo = medalhas_por_pais.max()\n",
    "\n",
    "paises_mais_medalhados = medalhas_por_pais[medalhas_por_pais == maximo]\n",
    "\n",
    "print('O maior país em medalhas da história das olimpíadas de verão:')\n",
    "paises_mais_medalhados\n"
   ]
  },
  {
   "cell_type": "markdown",
   "metadata": {
    "id": "NJL8A-W3xlup"
   },
   "source": [
    "Obtenha o total de medalhas de ouro, prata e total por edição das Olimpíadas de verão. Lembre-se da questão do evento esportivo."
   ]
  },
  {
   "cell_type": "code",
   "execution_count": null,
   "metadata": {
    "ExecuteTime": {
     "end_time": "2021-10-26T00:05:43.449181Z",
     "start_time": "2021-10-26T00:05:43.449171Z"
    },
    "colab": {
     "base_uri": "https://localhost:8080/",
     "height": 979
    },
    "id": "9X2TgtAPxlup",
    "outputId": "e3b99202-2271-41f0-89dc-510295ab5211"
   },
   "outputs": [],
   "source": [
    "df_medalhas = df_medalhas_por_evento.groupby(['Year','Medal']).size()\n",
    "\n",
    "medalhas = {'Gold':None,'Silver':None,'Bronze':None}\n",
    "\n",
    "for x in medalhas.keys():\n",
    "  medalhas[x] = df_medalhas.loc[:,x]\n",
    "  \n",
    "medalhas['Total'] = df_medalhas.groupby(level=0).sum()\n",
    "\n",
    "df_medalhas_por_ano = pd.DataFrame(medalhas)\n",
    "print('Total de medalhas por edição das Olimpíadas:')\n",
    "df_medalhas_por_ano\n"
   ]
  },
  {
   "cell_type": "markdown",
   "metadata": {
    "id": "8itdOIa2xlup"
   },
   "source": [
    "## 3. Brasil vs Mundo"
   ]
  },
  {
   "cell_type": "markdown",
   "metadata": {
    "id": "1V67BG8nxlup"
   },
   "source": [
    "Para finalizar, vamos fazer algumas comparações entre Brasil e mundo. Qual o ranking do Brasil em cada edição das olimpíadas? Lembrando que o ranking é ordenado por medalhas de ouro."
   ]
  },
  {
   "cell_type": "code",
   "execution_count": null,
   "metadata": {
    "ExecuteTime": {
     "end_time": "2021-10-26T00:05:43.449976Z",
     "start_time": "2021-10-26T00:05:43.449967Z"
    },
    "colab": {
     "base_uri": "https://localhost:8080/"
    },
    "id": "6glujoVuxlup",
    "outputId": "7ce16366-457f-4662-c27c-c9bafa4f0325"
   },
   "outputs": [],
   "source": [
    "# Para considerar inclusive os países que não ganharam medalhas\n",
    "df_por_evento = df_verao.drop_duplicates(subset=['Event','Year','Medal'])"
   ]
  },
  {
   "cell_type": "code",
   "execution_count": null,
   "metadata": {
    "ExecuteTime": {
     "end_time": "2021-10-26T00:05:43.450911Z",
     "start_time": "2021-10-26T00:05:43.450902Z"
    },
    "colab": {
     "base_uri": "https://localhost:8080/"
    },
    "id": "6glujoVuxlup",
    "outputId": "7ce16366-457f-4662-c27c-c9bafa4f0325"
   },
   "outputs": [],
   "source": [
    "# Todos os países participantes\n",
    "# df_qdro_med_ano = df_por_evento.groupby(['Year', 'Team', 'Medal']).size().reset_index()\n",
    "\n",
    "# Apenas países com medalhas\n",
    "df_qdro_med_ano = df_medalhas_por_evento.groupby(['Year', 'Team', 'Medal']).size().reset_index()\n",
    "\n",
    "df_qdro_med_ano.rename(columns={0: 'Qtde'}, inplace=True)\n",
    "\n",
    "df_qdro_med_ano['Gold'] = df_qdro_med_ano[df_qdro_med_ano['Medal']=='Gold']['Qtde']\n",
    "df_qdro_med_ano['Silver'] = df_qdro_med_ano[df_qdro_med_ano['Medal']=='Silver']['Qtde']\n",
    "df_qdro_med_ano['Bronze'] = df_qdro_med_ano[df_qdro_med_ano['Medal']=='Bronze']['Qtde']\n",
    "\n",
    "df_qdro_med_ano = df_qdro_med_ano.sort_values(by = ['Year', 'Gold', 'Silver', 'Bronze'], \n",
    "                                     ascending=[True, False, False, False])\n",
    "\n",
    "df_qdro_med_ano.drop(columns=['Medal','Qtde'],inplace = True)\n",
    "df_qdro_med_ano.reset_index(drop=True)\n"
   ]
  },
  {
   "cell_type": "code",
   "execution_count": null,
   "metadata": {
    "ExecuteTime": {
     "end_time": "2021-10-26T00:05:43.451924Z",
     "start_time": "2021-10-26T00:05:43.451916Z"
    }
   },
   "outputs": [],
   "source": [
    "df_por_evento = df_verao.drop_duplicates(subset=['Event','Year','Medal']).copy()\n",
    "\n",
    "valor_medalha = {'Gold': 1000000, \n",
    "                 'Silver': 1000, \n",
    "                 'Bronze': 1, \n",
    "                 'Sem medalhas': 0}\n",
    "\n",
    "df_por_evento['valor_medalha'] = df_por_evento['Medal'].map(valor_medalha)\n",
    "\n",
    "teste = df_por_evento.groupby(['Year', 'Team'])['valor_medalha'].sum().reset_index()\n",
    "\n",
    "teste['Gold'] = teste['valor_medalha'] // 1_000_000\n",
    "teste['Silver'] = (teste['valor_medalha'] % 1_000_000) // 1_000\n",
    "teste['Bronze'] = teste['valor_medalha'] % 1_000\n",
    "\n",
    "teste.sort_values(['Year', 'Gold', 'Silver', 'Bronze'], ascending=[True, False, False, False], inplace=True)\n",
    "teste"
   ]
  },
  {
   "cell_type": "code",
   "execution_count": null,
   "metadata": {
    "ExecuteTime": {
     "end_time": "2021-10-26T00:05:43.452778Z",
     "start_time": "2021-10-26T00:05:43.452770Z"
    },
    "colab": {
     "base_uri": "https://localhost:8080/"
    },
    "id": "6glujoVuxlup",
    "outputId": "7ce16366-457f-4662-c27c-c9bafa4f0325"
   },
   "outputs": [],
   "source": [
    "print('Ranking do Brasil nas edições das Olimpíadas que ele participou: \\n')\n",
    "\n",
    "for x in df_qdro_med_ano.groupby(['Year']):\n",
    "    y = x[1].reset_index(drop=True)\n",
    "    pos = y[y['Team'] == 'Brazil'].index + 1\n",
    "    if len(pos) > 0: # Verifica se o Brasil participou das olimpíadas daquele ano\n",
    "        print(f'{x[0]} - {pos[0]}°')"
   ]
  },
  {
   "cell_type": "markdown",
   "metadata": {
    "id": "DQ42me2-xluq"
   },
   "source": [
    "Compare o maior medalhista em ouros do Brasil com o maior medalhista em ouros do mundo."
   ]
  },
  {
   "cell_type": "code",
   "execution_count": null,
   "metadata": {
    "ExecuteTime": {
     "end_time": "2021-10-26T00:05:43.453850Z",
     "start_time": "2021-10-26T00:05:43.453832Z"
    },
    "colab": {
     "base_uri": "https://localhost:8080/"
    },
    "id": "NpB0Owbrxluq",
    "outputId": "c249d785-cf98-447c-af95-096f56079ac2"
   },
   "outputs": [],
   "source": [
    "print('Brasileiros com mais ouros:')\n",
    "print(brasileiros_mais_ouros)\n",
    "\n",
    "print('\\nAtletas com mais ouros:')\n",
    "print(atletas_mais_ouros)\n"
   ]
  },
  {
   "cell_type": "markdown",
   "metadata": {
    "id": "65eDAii6xluq"
   },
   "source": [
    "Compare o maior medalhista em total de medalhas do Brasil com o maior medalhista em total de medalhas do mundo."
   ]
  },
  {
   "cell_type": "code",
   "execution_count": null,
   "metadata": {
    "ExecuteTime": {
     "end_time": "2021-10-26T00:05:43.455528Z",
     "start_time": "2021-10-26T00:05:43.455500Z"
    },
    "colab": {
     "base_uri": "https://localhost:8080/"
    },
    "id": "TtByA33cxluq",
    "outputId": "c772620b-354a-4635-8010-0ce28c9a3140"
   },
   "outputs": [],
   "source": [
    "print('Brasileiros com mais medalhas:')\n",
    "print(brasileiros_mais_medalhas)\n",
    "\n",
    "print('\\nAtletas com mais medalhas:')\n",
    "print(maiores_medalhistas)"
   ]
  },
  {
   "cell_type": "markdown",
   "metadata": {
    "id": "hZz8SCTYxluq"
   },
   "source": [
    "Compare o maior medalhista em ouros do Brasil com o maior medalhista do mundo no mesmo esporte."
   ]
  },
  {
   "cell_type": "code",
   "execution_count": null,
   "metadata": {
    "ExecuteTime": {
     "end_time": "2021-10-26T00:05:43.457036Z",
     "start_time": "2021-10-26T00:05:43.457017Z"
    }
   },
   "outputs": [],
   "source": [
    "def printa_dicionario(dic):\n",
    "  for k,v in dic.items():\n",
    "    if type(k) != str:\n",
    "        print(k[1],v)\n",
    "        continue\n",
    "    print(k,v)"
   ]
  },
  {
   "cell_type": "code",
   "execution_count": null,
   "metadata": {
    "ExecuteTime": {
     "end_time": "2021-10-26T00:05:43.457975Z",
     "start_time": "2021-10-26T00:05:43.457965Z"
    },
    "colab": {
     "base_uri": "https://localhost:8080/"
    },
    "id": "K6YlSSY4xluq",
    "outputId": "ba1c0a0f-175c-4ffe-9fd1-47e0ea799b39"
   },
   "outputs": [],
   "source": [
    "ouros_por_atleta_br = df_medalhistas_br.groupby(['Sport','Name'])['Medal'].value_counts().loc[:,:, 'Gold']\n",
    "\n",
    "maximo_br = ouros_por_atleta_br.max()\n",
    "\n",
    "brasileiros_mais_ouros = ouros_por_atleta_br[ouros_por_atleta_br == maximo_br]\n",
    "\n",
    "esportes_comparacao = brasileiros_mais_ouros.index.get_level_values(0).unique().to_list()\n",
    "\n",
    "ouros_por_atleta = df_medalhistas[df_medalhistas['Team'] != 'Brazil'].groupby(['Sport','Name'])['Medal'].value_counts().loc[esportes_comparacao,:, 'Gold'].droplevel(2)"
   ]
  },
  {
   "cell_type": "code",
   "execution_count": null,
   "metadata": {
    "ExecuteTime": {
     "end_time": "2021-10-26T00:05:43.459010Z",
     "start_time": "2021-10-26T00:05:43.458994Z"
    },
    "colab": {
     "base_uri": "https://localhost:8080/"
    },
    "id": "K6YlSSY4xluq",
    "outputId": "ba1c0a0f-175c-4ffe-9fd1-47e0ea799b39"
   },
   "outputs": [],
   "source": [
    "print('O maior medalhista em ouros do Brasil com o maior medalhista do mundo no mesmo esporte: \\n')\n",
    "for x in esportes_comparacao:\n",
    "  maximo_x = ouros_por_atleta.groupby(level=0).max().loc[x]\n",
    "  atletas_mais_ouros_x = ouros_por_atleta[(ouros_por_atleta.index.get_level_values(0) == x)&(ouros_por_atleta == maximo_x)].to_dict()\n",
    "\n",
    "  print(x)\n",
    "\n",
    "  print(f'\\nBrasil')\n",
    "  br = brasileiros_mais_ouros.loc[x,:].to_dict()\n",
    "  printa_dicionario(br)\n",
    "\n",
    "  print(f'\\nMundo')\n",
    "  printa_dicionario(atletas_mais_ouros_x)\n",
    "  print('-'*50)"
   ]
  },
  {
   "cell_type": "markdown",
   "metadata": {
    "id": "JJEHXk5oxlur"
   },
   "source": [
    "Compare o maior medalhista em total de medalhas do Brasil com o maior medalhista do mundo no mesmo esporte."
   ]
  },
  {
   "cell_type": "code",
   "execution_count": null,
   "metadata": {
    "ExecuteTime": {
     "end_time": "2021-10-26T00:05:43.460534Z",
     "start_time": "2021-10-26T00:05:43.460519Z"
    },
    "colab": {
     "base_uri": "https://localhost:8080/"
    },
    "id": "4F0tAMvMxlur",
    "outputId": "e6459a2c-4083-4810-b20d-058503d98d92"
   },
   "outputs": [],
   "source": [
    "medalhas_por_atleta_br = df_medalhistas_br.groupby(['Sport','Name'])['Medal'].size()\n",
    "\n",
    "maximo_br = medalhas_por_atleta_br.max()\n",
    "\n",
    "brasileiros_mais_medalhados = medalhas_por_atleta_br[medalhas_por_atleta_br == maximo_br]\n",
    "\n",
    "esportes_comparacao = brasileiros_mais_medalhados.index.get_level_values(0).unique().to_list()\n",
    "\n",
    "medalhas_por_atleta = df_medalhistas.groupby(['Sport','Name'])['Medal'].size().loc[esportes_comparacao,:]\n",
    "# Caso não queira que os atletas brasileiros apareçam da tabela do mundo, basta substituir a linha anterior por:\n",
    "# medalhas_por_atleta = df_medalhistas[df_medalhistas['Team'] != 'Brazil'].groupby(['Sport','Name'])['Medal'].size().loc[esportes_comparacao,:]\n",
    "\n",
    "print('O maior medalhista do Brasil com o maior medalhista do mundo no mesmo esporte: \\n')\n",
    "\n",
    "for x in esportes_comparacao:\n",
    "  maximo_x = medalhas_por_atleta.groupby(level=0).max().loc[x]\n",
    "  atletas_mais_medalhas_x = medalhas_por_atleta[(medalhas_por_atleta.index.get_level_values(0) == x)&(medalhas_por_atleta == maximo_x)].to_dict()\n",
    "\n",
    "  print(x)\n",
    "\n",
    "  print(f'\\nBrasil')\n",
    "  br = brasileiros_mais_medalhados.loc[x,:].to_dict()\n",
    "  printa_dicionario(br)\n",
    "\n",
    "  print(f'\\nMundo')\n",
    "  printa_dicionario(atletas_mais_medalhas_x)\n",
    "  print('-'*50)\n"
   ]
  },
  {
   "cell_type": "markdown",
   "metadata": {
    "id": "5WKlsLxexlur"
   },
   "source": [
    "Calcule o percentual de medalhas de ouro, prata e bronze que o Brasil ganhou em cada olimpíada."
   ]
  },
  {
   "cell_type": "code",
   "execution_count": null,
   "metadata": {
    "ExecuteTime": {
     "end_time": "2021-10-26T00:05:43.461606Z",
     "start_time": "2021-10-26T00:05:43.461590Z"
    },
    "colab": {
     "base_uri": "https://localhost:8080/",
     "height": 762
    },
    "id": "jtYxPsTyxlus",
    "outputId": "d92b27bb-ba75-4814-bc5b-22a13f930631"
   },
   "outputs": [],
   "source": [
    "df_por_evento_br = df_por_evento[df_por_evento['Team'] == 'Brazil']\n",
    "df_medalhas_br = df_por_evento_br[df_por_evento_br['Medal'] != 'No medal'].groupby(['Year','Medal']).size()\n",
    "\n",
    "medalhas_br = {'Gold':None,'Silver':None,'Bronze':None}\n",
    "\n",
    "for x in medalhas_br.keys():\n",
    "  medalhas_br[x] = df_medalhas_br.loc[:,x].astype(np.int64)\n",
    "  \n",
    "medalhas_br['Total'] = df_medalhas_br.groupby(level=0).sum()\n",
    "\n",
    "df_medalhas_por_ano_br = pd.DataFrame(medalhas_br).fillna(0)\n",
    "\n",
    "print('Medalhas do Brasil nas Olimpíadas:')\n",
    "df_medalhas_por_ano_br"
   ]
  },
  {
   "cell_type": "code",
   "execution_count": null,
   "metadata": {
    "ExecuteTime": {
     "end_time": "2021-10-26T00:05:43.463482Z",
     "start_time": "2021-10-26T00:05:43.463462Z"
    },
    "colab": {
     "base_uri": "https://localhost:8080/",
     "height": 701
    },
    "id": "SGTZaKrF6pHV",
    "outputId": "e42d148d-f6cb-4d92-8a72-b2b6aa2b0b23"
   },
   "outputs": [],
   "source": [
    "# Concatenação do DataFrame 'df_medalhas_por_ano_br' com 'df_medalhas_por_ano' .\n",
    "df_comparativo_medalhas = pd.concat([df_medalhas_por_ano_br, df_medalhas_por_ano], \n",
    "                                            join='inner', \n",
    "                                            axis=1, \n",
    "                                            keys=['Brasil', 'Geral'])\n",
    "\n",
    "df_comparativo_medalhas"
   ]
  },
  {
   "cell_type": "code",
   "execution_count": null,
   "metadata": {
    "ExecuteTime": {
     "end_time": "2021-10-26T00:05:43.464716Z",
     "start_time": "2021-10-26T00:05:43.464700Z"
    },
    "colab": {
     "base_uri": "https://localhost:8080/",
     "height": 670
    },
    "id": "Ww08sIQ-7tru",
    "outputId": "923a59b3-1875-4ba4-934b-60696b8a3ad5"
   },
   "outputs": [],
   "source": [
    "df_percent_medalhas_br = pd.DataFrame()\n",
    "\n",
    "for x in df_comparativo_medalhas['Brasil'].columns:\n",
    "  df_percent_medalhas_br[x] = round((df_comparativo_medalhas['Brasil'][x]/df_comparativo_medalhas['Geral'][x])*100, 2)\n",
    "\n",
    "plt.figure(figsize=(17,10))\n",
    "anos = df_percent_medalhas_br.index.to_list()\n",
    "\n",
    "plt.bar(df_percent_medalhas_br.index-1,df_percent_medalhas_br['Bronze'],label = 'Bronze', color = 'Brown')\n",
    "plt.bar(df_percent_medalhas_br.index,df_percent_medalhas_br['Silver'],label = 'Silver', color = 'Grey')\n",
    "plt.bar(df_percent_medalhas_br.index+1,df_percent_medalhas_br['Gold'],label = 'Gold', color = 'Orange')\n",
    "\n",
    "# plt.bar(df_percent_medalhas_br.index,df_percent_medalhas_br['Total'],label = 'Total', color = 'Blue')\n",
    "\n",
    "plt.xlabel('Edições Olimpíadas')\n",
    "plt.ylabel('% Medalhas')\n",
    "plt.xticks(anos)\n",
    "\n",
    "\n",
    "plt.title('Medalhas do Brasil por edição das Olimpíadas')\n",
    "plt.legend(bbox_to_anchor=(1.01, 1.0))\n",
    "plt.show()"
   ]
  },
  {
   "cell_type": "code",
   "execution_count": null,
   "metadata": {
    "ExecuteTime": {
     "end_time": "2021-10-26T00:05:43.466405Z",
     "start_time": "2021-10-26T00:05:43.466385Z"
    }
   },
   "outputs": [],
   "source": [
    "df_percent_medalhas_br"
   ]
  }
 ],
 "metadata": {
  "colab": {
   "collapsed_sections": [],
   "name": "Cópia de Projeto - Pandas.ipynb",
   "provenance": []
  },
  "kernelspec": {
   "display_name": "Python 3 (ipykernel)",
   "language": "python",
   "name": "python3"
  },
  "language_info": {
   "codemirror_mode": {
    "name": "ipython",
    "version": 3
   },
   "file_extension": ".py",
   "mimetype": "text/x-python",
   "name": "python",
   "nbconvert_exporter": "python",
   "pygments_lexer": "ipython3",
   "version": "3.8.10"
  }
 },
 "nbformat": 4,
 "nbformat_minor": 1
}
